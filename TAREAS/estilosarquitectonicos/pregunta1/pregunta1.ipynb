{
 "cells": [
  {
   "cell_type": "code",
   "execution_count": 3,
   "id": "7105c80b",
   "metadata": {},
   "outputs": [
    {
     "name": "stdout",
     "output_type": "stream",
     "text": [
      "Ingrese el valor de n: 5\n",
      "Ingrese el valor de k: 3\n",
      "La combinatoria de C(5, 3) es: 10\n"
     ]
    }
   ],
   "source": [
    "import math\n",
    "\n",
    "def calcular_combinatoria(n, p):\n",
    "    # Calcular n! / (k! * (n-k)!)\n",
    "    resultado = math.factorial(n) / (math.factorial(p) * math.factorial(n - p))\n",
    "    return int(resultado)\n",
    "\n",
    "def main():\n",
    "    # Solicitar entrada de usuario para n y k\n",
    "    n = int(input(\"Ingrese el valor del numerador n: \"))\n",
    "    p = int(input(\"Ingrese el valor del orden p: \"))\n",
    "\n",
    "    # Calcular la combinatoria\n",
    "    resultado_combinatoria = calcular_combinatoria(n, p)\n",
    "\n",
    "    # Mostrar el resultado\n",
    "    print(f\"La combinatoria de C({n}, {p}) es: {resultado_combinatoria}\")\n",
    "\n",
    "if __name__ == \"__main__\":\n",
    "    main()\n"
   ]
  },
  {
   "cell_type": "code",
   "execution_count": null,
   "id": "99599a5b",
   "metadata": {},
   "outputs": [],
   "source": []
  },
  {
   "cell_type": "code",
   "execution_count": null,
   "id": "a66d74a2",
   "metadata": {},
   "outputs": [],
   "source": []
  }
 ],
 "metadata": {
  "kernelspec": {
   "display_name": "Python 3 (ipykernel)",
   "language": "python",
   "name": "python3"
  },
  "language_info": {
   "codemirror_mode": {
    "name": "ipython",
    "version": 3
   },
   "file_extension": ".py",
   "mimetype": "text/x-python",
   "name": "python",
   "nbconvert_exporter": "python",
   "pygments_lexer": "ipython3",
   "version": "3.11.4"
  }
 },
 "nbformat": 4,
 "nbformat_minor": 5
}
